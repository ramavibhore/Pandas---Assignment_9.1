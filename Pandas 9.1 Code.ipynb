import pandas as pd

df = pd.DataFrame({'X': [7, 2, 0, 3, 4, 2, 5, 0, 3, 4]})
print('Input DataFrame:\n','-'*10)
print(df)
df1=(df['X']!=0).cumsum()
df2=df1!=df1.shift()
df['Y']=df2.groupby((df2 != df2.shift()).cumsum()).cumsum().astype(int)
print('Output DataFrame:\n','-'*10)
print(df)